{
 "cells": [
  {
   "cell_type": "code",
   "execution_count": 1,
   "id": "8d7e4358",
   "metadata": {},
   "outputs": [],
   "source": [
    "import pandas as pd"
   ]
  },
  {
   "cell_type": "code",
   "execution_count": 2,
   "id": "687858ea",
   "metadata": {},
   "outputs": [],
   "source": [
    "INPUT_FILE = 'green_tripdata_2019-01.csv'"
   ]
  },
  {
   "cell_type": "markdown",
   "id": "23015c4a",
   "metadata": {},
   "source": [
    "# Populate the DB"
   ]
  },
  {
   "cell_type": "code",
   "execution_count": 3,
   "id": "a1d1f971",
   "metadata": {},
   "outputs": [],
   "source": [
    "df = pd.read_csv(INPUT_FILE)"
   ]
  },
  {
   "cell_type": "code",
   "execution_count": 4,
   "id": "f9e76d7f",
   "metadata": {},
   "outputs": [],
   "source": [
    "df.lpep_pickup_datetime = pd.to_datetime(df.lpep_pickup_datetime)\n",
    "df.lpep_dropoff_datetime = pd.to_datetime(df.lpep_dropoff_datetime)"
   ]
  },
  {
   "cell_type": "code",
   "execution_count": 5,
   "id": "bdefce25",
   "metadata": {},
   "outputs": [],
   "source": [
    "df_zones = pd.read_csv('taxi+_zone_lookup.csv')"
   ]
  },
  {
   "cell_type": "markdown",
   "id": "2070c677",
   "metadata": {},
   "source": [
    "# Homework (parse data)"
   ]
  },
  {
   "cell_type": "markdown",
   "id": "c3b69fda",
   "metadata": {},
   "source": [
    "## Question 3. Count records\n",
    "\n",
    "How many taxi trips were totally made on January 15?\n",
    "\n",
    "Tip: started and finished on 2019-01-15.\n",
    "\n",
    "Remember that `lpep_pickup_datetime` and `lpep_dropoff_datetime` columns are in the format timestamp (date and hour+min+sec) and not in date.\n",
    "\n",
    "- 20689\n",
    "- 20530\n",
    "- 17630\n",
    "- 21090\n"
   ]
  },
  {
   "cell_type": "code",
   "execution_count": 6,
   "id": "f6356056",
   "metadata": {},
   "outputs": [
    {
     "data": {
      "text/plain": [
       "20530"
      ]
     },
     "execution_count": 6,
     "metadata": {},
     "output_type": "execute_result"
    }
   ],
   "source": [
    "query_date = pd.to_datetime(\"2019-01-15\").date()\n",
    "\n",
    "df[(df[\"lpep_dropoff_datetime\"].dt.date == query_date) &\n",
    "   (df[\"lpep_pickup_datetime\"].dt.date == query_date)].shape[0]"
   ]
  },
  {
   "cell_type": "markdown",
   "id": "b778f1a9",
   "metadata": {},
   "source": [
    "**Answer is 20530**"
   ]
  },
  {
   "cell_type": "markdown",
   "id": "15c5289a",
   "metadata": {},
   "source": [
    "## Question 4. Largest trip for each day\n",
    "\n",
    "Which was the day with the largest trip distance\n",
    "Use the pick up time for your calculations.\n",
    "\n",
    "- 2019-01-18\n",
    "- 2019-01-28\n",
    "- 2019-01-15\n",
    "- 2019-01-10"
   ]
  },
  {
   "cell_type": "code",
   "execution_count": 7,
   "id": "aa57aa24",
   "metadata": {},
   "outputs": [
    {
     "data": {
      "text/plain": [
       "297377   2019-01-15 19:27:58\n",
       "Name: lpep_pickup_datetime, dtype: datetime64[ns]"
      ]
     },
     "execution_count": 7,
     "metadata": {},
     "output_type": "execute_result"
    }
   ],
   "source": [
    "# Solution 1: hacky but simple\n",
    "df[df[\"trip_distance\"] == df[\"trip_distance\"].max()][\"lpep_pickup_datetime\"]"
   ]
  },
  {
   "cell_type": "code",
   "execution_count": 8,
   "id": "50899eb1",
   "metadata": {},
   "outputs": [
    {
     "data": {
      "text/plain": [
       "Timestamp('2019-01-15 19:27:58')"
      ]
     },
     "execution_count": 8,
     "metadata": {},
     "output_type": "execute_result"
    }
   ],
   "source": [
    "# Solution 2: idiomatic?\n",
    "df.loc[df[\"trip_distance\"].idxmax(), \"lpep_pickup_datetime\"]"
   ]
  },
  {
   "cell_type": "markdown",
   "id": "5fdf7b7b",
   "metadata": {},
   "source": [
    "### Answer is 2019-01-15"
   ]
  },
  {
   "cell_type": "markdown",
   "id": "03512ee1",
   "metadata": {},
   "source": [
    "## Question 5. The number of passengers\n",
    "\n",
    "In 2019-01-01 how many trips had 2 and 3 passengers?\n",
    "\n",
    "- 2: 1282 ; 3: 266\n",
    "- 2: 1532 ; 3: 126\n",
    "- 2: 1282 ; 3: 254\n",
    "- 2: 1282 ; 3: 274"
   ]
  },
  {
   "cell_type": "code",
   "execution_count": 9,
   "id": "926f65e5",
   "metadata": {},
   "outputs": [],
   "source": [
    "query_date = pd.to_datetime(\"2019-01-01\").date()\n",
    "df_date_filtered = df[df[\"lpep_pickup_datetime\"].dt.date == query_date]"
   ]
  },
  {
   "cell_type": "code",
   "execution_count": 10,
   "id": "39c7fa28",
   "metadata": {},
   "outputs": [
    {
     "data": {
      "text/plain": [
       "passenger_count\n",
       "0       21\n",
       "1    12415\n",
       "2     1282\n",
       "3      254\n",
       "4      129\n",
       "5      616\n",
       "6      273\n",
       "dtype: int64"
      ]
     },
     "execution_count": 10,
     "metadata": {},
     "output_type": "execute_result"
    }
   ],
   "source": [
    "df_date_filtered.groupby(\"passenger_count\").size()"
   ]
  },
  {
   "cell_type": "markdown",
   "id": "7a6538e2",
   "metadata": {},
   "source": [
    "Answer is 1282 and 254"
   ]
  },
  {
   "cell_type": "markdown",
   "id": "4f4bda20",
   "metadata": {},
   "source": [
    "## Question 6. Largest tip\n",
    "\n",
    "For the passengers picked up in the Astoria Zone which was the drop off zone that had the largest tip?\n",
    "We want the name of the zone, not the id.\n",
    "\n",
    "Note: it's not a typo, it's `tip` , not `trip`\n",
    "\n",
    "- Central Park\n",
    "- Jamaica\n",
    "- South Ozone Park\n",
    "- Long Island City/Queens Plaza"
   ]
  },
  {
   "cell_type": "code",
   "execution_count": 11,
   "id": "36a3fa2f",
   "metadata": {},
   "outputs": [
    {
     "data": {
      "text/plain": [
       "'Long Island City/Queens Plaza'"
      ]
     },
     "execution_count": 11,
     "metadata": {},
     "output_type": "execute_result"
    }
   ],
   "source": [
    "# Solution 1: Procedural\n",
    "\n",
    "astoria_zone_id = df_zones.loc[df_zones[\"Zone\"] == 'Astoria', \"LocationID\"].values[0]\n",
    "astoria_trips = df[df[\"PULocationID\"] == astoria_zone_id]\n",
    "target_zone_id = astoria_trips.loc[astoria_trips[\"tip_amount\"].idxmax(), \"DOLocationID\"]\n",
    "df_zones.loc[df_zones[\"LocationID\"] == target_zone_id, \"Zone\"].values[0]"
   ]
  },
  {
   "cell_type": "code",
   "execution_count": 12,
   "id": "acca883b",
   "metadata": {},
   "outputs": [],
   "source": [
    "# Solution 2: Ask ChatGPT to do pandas using Dimmy's SQL solution\n",
    "\n",
    "# Prompt: \n",
    "'''\n",
    "Can you translate this SQL into pandas, assuming the two tables are contained in different dataframes? \n",
    "\n",
    "SELECT zdo.\"Zone\", MAX(td.tip_amount)\n",
    "FROM tripdata td \n",
    "\tJOIN zones zpu ON td.\"PULocationID\" = zpu.\"LocationID\" \n",
    "\tJOIN zones zdo ON td.\"DOLocationID\" = zdo.\"LocationID\"\n",
    "WHERE LOWER(zpu.\"Zone\") LIKE 'astoria'\n",
    "GROUP BY zdo.\"LocationID\", zdo.\"Zone\"\n",
    "ORDER BY MAX(td.tip_amount) DESC;\n",
    "'''\n",
    "\n",
    "df1 = df\n",
    "df2 = df_zones\n",
    "\n",
    "# Answer below (crashes so we don't run it)\n",
    "\n",
    "# df1 = df1[df1[\"PULocationID\"].isin(df2[df2[\"Zone\"].str.contains(\"astoria\", case=False)][\"LocationID\"])]\n",
    "# df3 = df1.merge(df2, left_on=\"DOLocationID\", right_on=\"LocationID\")\n",
    "# df3 = df3.groupby([\"Zone_y\", \"LocationID_y\"])[\"tip_amount\"].agg(\"max\").reset_index()\n",
    "# df3 = df3.sort_values(\"tip_amount\", ascending=False)"
   ]
  },
  {
   "cell_type": "code",
   "execution_count": 13,
   "id": "f109fd10",
   "metadata": {},
   "outputs": [
    {
     "data": {
      "text/plain": [
       "'Long Island City/Queens Plaza'"
      ]
     },
     "execution_count": 13,
     "metadata": {},
     "output_type": "execute_result"
    }
   ],
   "source": [
    "# Looks good but fortunately it crashed (yey, we still have a job!)\n",
    "# Let's fix it\n",
    "\n",
    "\n",
    "df1 = df1[df1[\"PULocationID\"].isin(df2[df2[\"Zone\"] == \"Astoria\"][\"LocationID\"])] # fixed\n",
    "df3 = df1.merge(df2, left_on=\"DOLocationID\", right_on=\"LocationID\")\n",
    "df3 = df3.groupby([\"Zone\", \"LocationID\"])[\"tip_amount\"].agg(\"max\").reset_index()\n",
    "df3 = df3.sort_values(\"tip_amount\", ascending=False)\n",
    "df3[\"Zone\"].head(1).values[0] # added\n",
    "\n",
    "# Maybe it will take our jobs?"
   ]
  },
  {
   "cell_type": "markdown",
   "id": "4bcf9e4b",
   "metadata": {},
   "source": [
    "#### Answer is Long Island City/Queens Plaza"
   ]
  },
  {
   "cell_type": "markdown",
   "id": "d6dc15ae",
   "metadata": {},
   "source": [
    "## Speed tho"
   ]
  },
  {
   "cell_type": "code",
   "execution_count": 14,
   "id": "1a984aed",
   "metadata": {},
   "outputs": [
    {
     "name": "stdout",
     "output_type": "stream",
     "text": [
      "11.4 ms ± 39 µs per loop (mean ± std. dev. of 7 runs, 100 loops each)\n"
     ]
    }
   ],
   "source": [
    "%%timeit\n",
    "\n",
    "df1 = df\n",
    "df2 = df_zones\n",
    "df1 = df1[df1[\"PULocationID\"].isin(df2[df2[\"Zone\"] == \"Astoria\"][\"LocationID\"])]\n",
    "df3 = df1.merge(df2, left_on=\"DOLocationID\", right_on=\"LocationID\")\n",
    "df3 = df3.groupby([\"Zone\", \"LocationID\"])[\"tip_amount\"].agg(\"max\").reset_index()\n",
    "df3 = df3.sort_values(\"tip_amount\", ascending=False)\n",
    "df3[\"Zone\"].head(1).values[0]"
   ]
  },
  {
   "cell_type": "code",
   "execution_count": 15,
   "id": "76135734",
   "metadata": {},
   "outputs": [
    {
     "name": "stdout",
     "output_type": "stream",
     "text": [
      "4.43 ms ± 35.8 µs per loop (mean ± std. dev. of 7 runs, 100 loops each)\n"
     ]
    }
   ],
   "source": [
    "%%timeit\n",
    "\n",
    "astoria_zone_id = df_zones.loc[df_zones[\"Zone\"] == 'Astoria', \"LocationID\"].values[0]\n",
    "astoria_trips = df[df[\"PULocationID\"] == astoria_zone_id]\n",
    "target_zone_id = astoria_trips.loc[astoria_trips[\"tip_amount\"].idxmax(), \"DOLocationID\"]\n",
    "df_zones.loc[df_zones[\"LocationID\"] == target_zone_id, \"Zone\"].values[0]"
   ]
  },
  {
   "cell_type": "markdown",
   "id": "bad39708",
   "metadata": {},
   "source": [
    "**Hmm, maybe merges aren't so fast huh?**"
   ]
  },
  {
   "cell_type": "markdown",
   "id": "c4358b73",
   "metadata": {},
   "source": [
    "## Can we do it a bit faster? In Polars maybe?"
   ]
  },
  {
   "cell_type": "code",
   "execution_count": 16,
   "id": "172ca4d7",
   "metadata": {},
   "outputs": [
    {
     "name": "stdout",
     "output_type": "stream",
     "text": [
      "Defaulting to user installation because normal site-packages is not writeable\n",
      "Requirement already satisfied: polars in /home/gajop/.local/lib/python3.10/site-packages (0.16.0)\n",
      "Requirement already satisfied: pyarrow in /home/gajop/.local/lib/python3.10/site-packages (11.0.0)\n",
      "Requirement already satisfied: numpy>=1.16.6 in /usr/lib/python3/dist-packages (from pyarrow) (1.21.5)\n"
     ]
    }
   ],
   "source": [
    "!pip install polars pyarrow"
   ]
  },
  {
   "cell_type": "code",
   "execution_count": 17,
   "id": "b96fd9ee",
   "metadata": {},
   "outputs": [],
   "source": [
    "import polars as pl"
   ]
  },
  {
   "cell_type": "code",
   "execution_count": 18,
   "id": "f43ece80",
   "metadata": {},
   "outputs": [],
   "source": [
    "df_pl = pl.from_pandas(df)\n",
    "df_zones_pl = pl.from_pandas(df_zones)"
   ]
  },
  {
   "cell_type": "code",
   "execution_count": 19,
   "id": "9e14b75a",
   "metadata": {},
   "outputs": [
    {
     "data": {
      "text/plain": [
       "'Long Island City/Queens Plaza'"
      ]
     },
     "execution_count": 19,
     "metadata": {},
     "output_type": "execute_result"
    }
   ],
   "source": [
    "# Solution3: Polars equivalent of my original pandas\n",
    "\n",
    "astoria_zone_id = df_zones_pl.filter(pl.col(\"Zone\") == \"Astoria\")[\"LocationID\"][0]\n",
    "astoria_trips = df_pl.filter(pl.col(\"PULocationID\") == astoria_zone_id)\n",
    "target_zone_id = astoria_trips.filter(pl.col(\"tip_amount\") == pl.col(\"tip_amount\").max())[\"DOLocationID\"]\n",
    "df_zones_pl.filter(pl.col(\"LocationID\") == target_zone_id)[\"Zone\"][0]"
   ]
  },
  {
   "cell_type": "code",
   "execution_count": 20,
   "id": "4dfad8cc",
   "metadata": {},
   "outputs": [
    {
     "name": "stdout",
     "output_type": "stream",
     "text": [
      "2.76 ms ± 135 µs per loop (mean ± std. dev. of 7 runs, 100 loops each)\n"
     ]
    }
   ],
   "source": [
    "%%timeit\n",
    "\n",
    "astoria_zone_id = df_zones_pl.filter(pl.col(\"Zone\") == \"Astoria\")[\"LocationID\"][0]\n",
    "astoria_trips = df_pl.filter(pl.col(\"PULocationID\") == astoria_zone_id)\n",
    "target_zone_id = astoria_trips.filter(pl.col(\"tip_amount\") == pl.col(\"tip_amount\").max())[\"DOLocationID\"]\n",
    "df_zones_pl.filter(pl.col(\"LocationID\") == target_zone_id)[\"Zone\"][0]"
   ]
  },
  {
   "cell_type": "markdown",
   "id": "69d28e1b",
   "metadata": {},
   "source": [
    "Final results (for today! :))\n",
    "\n",
    "- Solution 1 (procedural pandas): 4.43 ms ± 35.8\n",
    "- Solution 2 (ChatGPT-ed SQL code): 11.4 ms ± 39 µs\n",
    "- Solution 3 (polars): **2.76 ms ± 135**"
   ]
  }
 ],
 "metadata": {
  "kernelspec": {
   "display_name": "Python 3 (ipykernel)",
   "language": "python",
   "name": "python3"
  },
  "language_info": {
   "codemirror_mode": {
    "name": "ipython",
    "version": 3
   },
   "file_extension": ".py",
   "mimetype": "text/x-python",
   "name": "python",
   "nbconvert_exporter": "python",
   "pygments_lexer": "ipython3",
   "version": "3.10.6"
  },
  "vscode": {
   "interpreter": {
    "hash": "31f2aee4e71d21fbe5cf8b01ff0e069b9275f58929596ceb00d14d90e3e16cd6"
   }
  }
 },
 "nbformat": 4,
 "nbformat_minor": 5
}
