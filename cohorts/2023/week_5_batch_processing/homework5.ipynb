{
 "cells": [
  {
   "cell_type": "code",
   "execution_count": 13,
   "metadata": {},
   "outputs": [],
   "source": [
    "import os\n",
    "from pathlib import Path\n",
    "\n",
    "\n",
    "import pyspark"
   ]
  },
  {
   "cell_type": "code",
   "execution_count": 14,
   "metadata": {},
   "outputs": [],
   "source": [
    "FHVH_DATA = Path('fhvh-data')"
   ]
  },
  {
   "cell_type": "markdown",
   "metadata": {},
   "source": [
    "# Q1"
   ]
  },
  {
   "cell_type": "code",
   "execution_count": 2,
   "metadata": {},
   "outputs": [
    {
     "data": {
      "text/plain": [
       "'3.3.2'"
      ]
     },
     "execution_count": 2,
     "metadata": {},
     "output_type": "execute_result"
    }
   ],
   "source": [
    "pyspark.__version__"
   ]
  },
  {
   "cell_type": "markdown",
   "metadata": {},
   "source": [
    "# Q2"
   ]
  },
  {
   "cell_type": "code",
   "execution_count": 3,
   "metadata": {},
   "outputs": [
    {
     "name": "stdout",
     "output_type": "stream",
     "text": [
      "23/02/26 12:18:57 WARN Utils: Your hostname, gajop-desktop resolves to a loopback address: 127.0.1.1; using 192.168.10.87 instead (on interface enp2s0)\n",
      "23/02/26 12:18:57 WARN Utils: Set SPARK_LOCAL_IP if you need to bind to another address\n"
     ]
    },
    {
     "name": "stderr",
     "output_type": "stream",
     "text": [
      "Setting default log level to \"WARN\".\n",
      "To adjust logging level use sc.setLogLevel(newLevel). For SparkR, use setLogLevel(newLevel).\n"
     ]
    },
    {
     "name": "stdout",
     "output_type": "stream",
     "text": [
      "23/02/26 12:18:57 WARN NativeCodeLoader: Unable to load native-hadoop library for your platform... using builtin-java classes where applicable\n"
     ]
    }
   ],
   "source": [
    "from pyspark.sql import SparkSession\n",
    "\n",
    " \n",
    "spark = SparkSession.builder \\\n",
    "    .master(\"local[*]\") \\\n",
    "    .config(\"spark.driver.memory\", \"15g\") \\\n",
    "    .appName(\"homework5\"). \\\n",
    "    getOrCreate()"
   ]
  },
  {
   "cell_type": "code",
   "execution_count": 4,
   "metadata": {},
   "outputs": [],
   "source": [
    "df = spark.read \\\n",
    "    .option(\"header\", \"true\") \\\n",
    "    .csv(\"fhvhv_tripdata_2021-06.csv\").repartition(12)"
   ]
  },
  {
   "cell_type": "code",
   "execution_count": 5,
   "metadata": {},
   "outputs": [
    {
     "name": "stderr",
     "output_type": "stream",
     "text": [
      "[Stage 1:>                                                        (0 + 20) / 20]\r"
     ]
    },
    {
     "name": "stdout",
     "output_type": "stream",
     "text": [
      "+--------------------+-------------------+-------------------+------------+------------+-------+----------------------+\n",
      "|dispatching_base_num|    pickup_datetime|   dropoff_datetime|PULocationID|DOLocationID|SR_Flag|Affiliated_base_number|\n",
      "+--------------------+-------------------+-------------------+------------+------------+-------+----------------------+\n",
      "|              B02764|2021-06-02 17:19:43|2021-06-02 17:47:47|          80|          65|      N|                B02764|\n",
      "|              B02510|2021-06-02 16:36:18|2021-06-02 16:48:05|          39|          39|      N|                  null|\n",
      "|              B02876|2021-06-01 02:11:30|2021-06-01 02:18:01|          39|          91|      N|                B02876|\n",
      "|              B02510|2021-06-02 13:00:02|2021-06-02 13:04:07|          61|          61|      N|                  null|\n",
      "|              B02835|2021-06-01 21:29:47|2021-06-01 21:53:40|          81|         212|      N|                B02835|\n",
      "|              B02882|2021-06-01 22:34:14|2021-06-01 22:51:03|          66|         145|      N|                B02882|\n",
      "|              B02510|2021-06-02 18:50:14|2021-06-02 19:02:55|         166|          50|      N|                  null|\n",
      "|              B02875|2021-06-01 10:27:44|2021-06-01 10:55:43|         244|         136|      N|                B02875|\n",
      "|              B02888|2021-06-02 05:27:26|2021-06-02 05:43:36|          79|         246|      N|                B02888|\n",
      "|              B02866|2021-06-02 14:26:05|2021-06-02 14:37:51|         237|         142|      N|                B02866|\n",
      "|              B02510|2021-06-02 08:18:47|2021-06-02 08:29:21|           4|          13|      N|                  null|\n",
      "|              B02871|2021-06-01 12:36:55|2021-06-01 13:15:42|          10|         112|      N|                B02871|\n",
      "|              B02510|2021-06-02 00:48:30|2021-06-02 00:56:01|          91|         165|      N|                  null|\n",
      "|              B02835|2021-06-01 07:58:58|2021-06-01 08:16:53|         160|          82|      N|                B02835|\n",
      "|              B02864|2021-06-02 18:16:11|2021-06-02 18:28:29|         185|          51|      N|                B02864|\n",
      "|              B02876|2021-06-01 07:40:39|2021-06-01 07:47:49|         107|          90|      N|                B02876|\n",
      "|              B02835|2021-06-02 18:49:03|2021-06-02 19:03:22|          79|          68|      N|                B02835|\n",
      "|              B02875|2021-06-02 08:45:03|2021-06-02 09:10:36|         177|         219|      N|                B02875|\n",
      "|              B02510|2021-06-01 21:59:00|2021-06-01 22:22:24|         208|         235|      N|                  null|\n",
      "|              B02872|2021-06-01 22:33:12|2021-06-01 22:41:23|         161|         263|      N|                B02872|\n",
      "+--------------------+-------------------+-------------------+------------+------------+-------+----------------------+\n",
      "only showing top 20 rows\n",
      "\n"
     ]
    },
    {
     "name": "stderr",
     "output_type": "stream",
     "text": [
      "                                                                                \r"
     ]
    }
   ],
   "source": [
    "df.show()"
   ]
  },
  {
   "cell_type": "code",
   "execution_count": 6,
   "metadata": {},
   "outputs": [
    {
     "data": {
      "text/plain": [
       "StructType([StructField('dispatching_base_num', StringType(), True), StructField('pickup_datetime', StringType(), True), StructField('dropoff_datetime', StringType(), True), StructField('PULocationID', StringType(), True), StructField('DOLocationID', StringType(), True), StructField('SR_Flag', StringType(), True), StructField('Affiliated_base_number', StringType(), True)])"
      ]
     },
     "execution_count": 6,
     "metadata": {},
     "output_type": "execute_result"
    }
   ],
   "source": [
    "df.schema"
   ]
  },
  {
   "cell_type": "code",
   "execution_count": 8,
   "metadata": {},
   "outputs": [],
   "source": [
    "from pyspark.sql import types"
   ]
  },
  {
   "cell_type": "code",
   "execution_count": 9,
   "metadata": {},
   "outputs": [],
   "source": [
    "schema = types.StructType([\n",
    "    types.StructField('dispatching_base_num', types.StringType(), True),\n",
    "    types.StructField('pickup_datetime', types.TimestampType(), True),\n",
    "    types.StructField('dropoff_datetime', types.TimestampType(), True),\n",
    "    types.StructField('PULocationID', types.IntegerType(), True),\n",
    "    types.StructField('DOLocationID', types.IntegerType(), True),\n",
    "    types.StructField('SR_Flag', types.StringType(), True),\n",
    "    types.StructField('Affiliated_base_number', types.StringType(), True)\n",
    "])"
   ]
  },
  {
   "cell_type": "code",
   "execution_count": 10,
   "metadata": {},
   "outputs": [],
   "source": [
    "df = spark.read \\\n",
    "    .option(\"header\", \"true\") \\\n",
    "    .schema(schema) \\\n",
    "    .csv(\"fhvhv_tripdata_2021-06.csv\").repartition(12)"
   ]
  },
  {
   "cell_type": "code",
   "execution_count": 16,
   "metadata": {},
   "outputs": [
    {
     "ename": "AnalysisException",
     "evalue": "path file:/home/gajop/projects/learn/data-engineering-zoomcamp/cohorts/2023/week_5_batch_processing/fhvh-data already exists.",
     "output_type": "error",
     "traceback": [
      "\u001b[0;31m---------------------------------------------------------------------------\u001b[0m",
      "\u001b[0;31mAnalysisException\u001b[0m                         Traceback (most recent call last)",
      "Cell \u001b[0;32mIn[16], line 1\u001b[0m\n\u001b[0;32m----> 1\u001b[0m df\u001b[39m.\u001b[39;49mwrite\u001b[39m.\u001b[39;49mparquet(\u001b[39mstr\u001b[39;49m(FHVH_DATA))\n",
      "File \u001b[0;32m~/projects/learn/data-engineering-zoomcamp/cohorts/2023/week_4_analytics_engineering/.venv/lib/python3.8/site-packages/pyspark/sql/readwriter.py:1140\u001b[0m, in \u001b[0;36mDataFrameWriter.parquet\u001b[0;34m(self, path, mode, partitionBy, compression)\u001b[0m\n\u001b[1;32m   1138\u001b[0m     \u001b[39mself\u001b[39m\u001b[39m.\u001b[39mpartitionBy(partitionBy)\n\u001b[1;32m   1139\u001b[0m \u001b[39mself\u001b[39m\u001b[39m.\u001b[39m_set_opts(compression\u001b[39m=\u001b[39mcompression)\n\u001b[0;32m-> 1140\u001b[0m \u001b[39mself\u001b[39;49m\u001b[39m.\u001b[39;49m_jwrite\u001b[39m.\u001b[39;49mparquet(path)\n",
      "File \u001b[0;32m~/projects/learn/data-engineering-zoomcamp/cohorts/2023/week_4_analytics_engineering/.venv/lib/python3.8/site-packages/py4j/java_gateway.py:1321\u001b[0m, in \u001b[0;36mJavaMember.__call__\u001b[0;34m(self, *args)\u001b[0m\n\u001b[1;32m   1315\u001b[0m command \u001b[39m=\u001b[39m proto\u001b[39m.\u001b[39mCALL_COMMAND_NAME \u001b[39m+\u001b[39m\\\n\u001b[1;32m   1316\u001b[0m     \u001b[39mself\u001b[39m\u001b[39m.\u001b[39mcommand_header \u001b[39m+\u001b[39m\\\n\u001b[1;32m   1317\u001b[0m     args_command \u001b[39m+\u001b[39m\\\n\u001b[1;32m   1318\u001b[0m     proto\u001b[39m.\u001b[39mEND_COMMAND_PART\n\u001b[1;32m   1320\u001b[0m answer \u001b[39m=\u001b[39m \u001b[39mself\u001b[39m\u001b[39m.\u001b[39mgateway_client\u001b[39m.\u001b[39msend_command(command)\n\u001b[0;32m-> 1321\u001b[0m return_value \u001b[39m=\u001b[39m get_return_value(\n\u001b[1;32m   1322\u001b[0m     answer, \u001b[39mself\u001b[39;49m\u001b[39m.\u001b[39;49mgateway_client, \u001b[39mself\u001b[39;49m\u001b[39m.\u001b[39;49mtarget_id, \u001b[39mself\u001b[39;49m\u001b[39m.\u001b[39;49mname)\n\u001b[1;32m   1324\u001b[0m \u001b[39mfor\u001b[39;00m temp_arg \u001b[39min\u001b[39;00m temp_args:\n\u001b[1;32m   1325\u001b[0m     temp_arg\u001b[39m.\u001b[39m_detach()\n",
      "File \u001b[0;32m~/projects/learn/data-engineering-zoomcamp/cohorts/2023/week_4_analytics_engineering/.venv/lib/python3.8/site-packages/pyspark/sql/utils.py:196\u001b[0m, in \u001b[0;36mcapture_sql_exception.<locals>.deco\u001b[0;34m(*a, **kw)\u001b[0m\n\u001b[1;32m    192\u001b[0m converted \u001b[39m=\u001b[39m convert_exception(e\u001b[39m.\u001b[39mjava_exception)\n\u001b[1;32m    193\u001b[0m \u001b[39mif\u001b[39;00m \u001b[39mnot\u001b[39;00m \u001b[39misinstance\u001b[39m(converted, UnknownException):\n\u001b[1;32m    194\u001b[0m     \u001b[39m# Hide where the exception came from that shows a non-Pythonic\u001b[39;00m\n\u001b[1;32m    195\u001b[0m     \u001b[39m# JVM exception message.\u001b[39;00m\n\u001b[0;32m--> 196\u001b[0m     \u001b[39mraise\u001b[39;00m converted \u001b[39mfrom\u001b[39;00m \u001b[39mNone\u001b[39m\n\u001b[1;32m    197\u001b[0m \u001b[39melse\u001b[39;00m:\n\u001b[1;32m    198\u001b[0m     \u001b[39mraise\u001b[39;00m\n",
      "\u001b[0;31mAnalysisException\u001b[0m: path file:/home/gajop/projects/learn/data-engineering-zoomcamp/cohorts/2023/week_5_batch_processing/fhvh-data already exists."
     ]
    }
   ],
   "source": [
    "df.write.parquet(str(FHVH_DATA))"
   ]
  },
  {
   "cell_type": "code",
   "execution_count": 26,
   "metadata": {},
   "outputs": [
    {
     "name": "stdout",
     "output_type": "stream",
     "text": [
      "Partitions: 12\n"
     ]
    },
    {
     "data": {
      "text/plain": [
       "21.572226126988728"
      ]
     },
     "execution_count": 26,
     "metadata": {},
     "output_type": "execute_result"
    }
   ],
   "source": [
    "files = [FHVH_DATA / f for f in os.listdir(FHVH_DATA) if f.endswith(\".parquet\")]\n",
    "sizes = [f.stat().st_size for f in files]\n",
    "average_size_mb = sum(sizes) / len(sizes) / 1024 / 1024\n",
    "\n",
    "print(f'Partitions: {len(files)}')\n",
    "assert(len(files) == 12)\n",
    "average_size_mb"
   ]
  },
  {
   "cell_type": "markdown",
   "metadata": {},
   "source": [
    "# Q3"
   ]
  },
  {
   "cell_type": "code",
   "execution_count": 47,
   "metadata": {},
   "outputs": [],
   "source": [
    "df = spark.read.parquet(\"fhvh-data\")"
   ]
  },
  {
   "cell_type": "code",
   "execution_count": 48,
   "metadata": {},
   "outputs": [],
   "source": [
    "df.createOrReplaceTempView('fhvh_trips')"
   ]
  },
  {
   "cell_type": "code",
   "execution_count": 50,
   "metadata": {},
   "outputs": [
    {
     "data": {
      "text/plain": [
       "[Row(count(1)=14961892)]"
      ]
     },
     "execution_count": 50,
     "metadata": {},
     "output_type": "execute_result"
    }
   ],
   "source": [
    "spark.sql(\"\"\"\n",
    "SELECT COUNT(*)\n",
    "FROM\n",
    "fhvh_trips\n",
    "\"\"\").collect()"
   ]
  },
  {
   "cell_type": "markdown",
   "metadata": {},
   "source": [
    "# Q4"
   ]
  },
  {
   "cell_type": "code",
   "execution_count": 51,
   "metadata": {},
   "outputs": [
    {
     "name": "stderr",
     "output_type": "stream",
     "text": [
      "                                                                                \r"
     ]
    },
    {
     "data": {
      "text/plain": [
       "[Row(duration=datetime.timedelta(days=2, seconds=67964))]"
      ]
     },
     "execution_count": 51,
     "metadata": {},
     "output_type": "execute_result"
    }
   ],
   "source": [
    "spark.sql(\"\"\"\n",
    "SELECT (dropoff_datetime - pickup_datetime) as duration\n",
    "FROM\n",
    "fhvh_trips\n",
    "ORDER BY duration\n",
    "DESC LIMIT 1\n",
    "\"\"\").collect()"
   ]
  },
  {
   "cell_type": "code",
   "execution_count": 55,
   "metadata": {},
   "outputs": [
    {
     "data": {
      "text/plain": [
       "66.8788888888889"
      ]
     },
     "execution_count": 55,
     "metadata": {},
     "output_type": "execute_result"
    }
   ],
   "source": [
    "days = 2\n",
    "seconds = 67964\n",
    "days * 24 + seconds / 3600"
   ]
  },
  {
   "cell_type": "markdown",
   "metadata": {},
   "source": [
    "# Q6"
   ]
  },
  {
   "cell_type": "code",
   "execution_count": 58,
   "metadata": {},
   "outputs": [],
   "source": [
    "df_zones = spark.read.option(\"header\", \"true\").csv(\"taxi_zone_lookup.csv\")"
   ]
  },
  {
   "cell_type": "code",
   "execution_count": 63,
   "metadata": {},
   "outputs": [
    {
     "data": {
      "text/plain": [
       "[Row(LocationID='1', Borough='EWR', Zone='Newark Airport', service_zone='EWR'),\n",
       " Row(LocationID='2', Borough='Queens', Zone='Jamaica Bay', service_zone='Boro Zone'),\n",
       " Row(LocationID='3', Borough='Bronx', Zone='Allerton/Pelham Gardens', service_zone='Boro Zone'),\n",
       " Row(LocationID='4', Borough='Manhattan', Zone='Alphabet City', service_zone='Yellow Zone'),\n",
       " Row(LocationID='5', Borough='Staten Island', Zone='Arden Heights', service_zone='Boro Zone'),\n",
       " Row(LocationID='6', Borough='Staten Island', Zone='Arrochar/Fort Wadsworth', service_zone='Boro Zone'),\n",
       " Row(LocationID='7', Borough='Queens', Zone='Astoria', service_zone='Boro Zone'),\n",
       " Row(LocationID='8', Borough='Queens', Zone='Astoria Park', service_zone='Boro Zone'),\n",
       " Row(LocationID='9', Borough='Queens', Zone='Auburndale', service_zone='Boro Zone'),\n",
       " Row(LocationID='10', Borough='Queens', Zone='Baisley Park', service_zone='Boro Zone')]"
      ]
     },
     "execution_count": 63,
     "metadata": {},
     "output_type": "execute_result"
    }
   ],
   "source": [
    "df_zones.head(n=10)"
   ]
  },
  {
   "cell_type": "code",
   "execution_count": 60,
   "metadata": {},
   "outputs": [
    {
     "data": {
      "text/plain": [
       "StructType([StructField('LocationID', StringType(), True), StructField('Borough', StringType(), True), StructField('Zone', StringType(), True), StructField('service_zone', StringType(), True)])"
      ]
     },
     "execution_count": 60,
     "metadata": {},
     "output_type": "execute_result"
    }
   ],
   "source": [
    "df_zones.schema"
   ]
  },
  {
   "cell_type": "code",
   "execution_count": 64,
   "metadata": {},
   "outputs": [],
   "source": [
    "zone_schema = types.StructType([\n",
    "    types.StructField('LocationID', types.IntegerType(), True),\n",
    "    types.StructField('Borough', types.StringType(), True),\n",
    "    types.StructField('Zone', types.StringType(), True),\n",
    "    types.StructField('service_zone', types.StringType(), True)\n",
    "])"
   ]
  },
  {
   "cell_type": "code",
   "execution_count": 66,
   "metadata": {},
   "outputs": [],
   "source": [
    "df_zones = spark.read.option(\"header\", \"true\").schema(zone_schema).csv(\"taxi_zone_lookup.csv\")"
   ]
  },
  {
   "cell_type": "code",
   "execution_count": 68,
   "metadata": {},
   "outputs": [
    {
     "data": {
      "text/plain": [
       "[Row(LocationID=1, Borough='EWR', Zone='Newark Airport', service_zone='EWR'),\n",
       " Row(LocationID=2, Borough='Queens', Zone='Jamaica Bay', service_zone='Boro Zone'),\n",
       " Row(LocationID=3, Borough='Bronx', Zone='Allerton/Pelham Gardens', service_zone='Boro Zone'),\n",
       " Row(LocationID=4, Borough='Manhattan', Zone='Alphabet City', service_zone='Yellow Zone'),\n",
       " Row(LocationID=5, Borough='Staten Island', Zone='Arden Heights', service_zone='Boro Zone'),\n",
       " Row(LocationID=6, Borough='Staten Island', Zone='Arrochar/Fort Wadsworth', service_zone='Boro Zone'),\n",
       " Row(LocationID=7, Borough='Queens', Zone='Astoria', service_zone='Boro Zone'),\n",
       " Row(LocationID=8, Borough='Queens', Zone='Astoria Park', service_zone='Boro Zone'),\n",
       " Row(LocationID=9, Borough='Queens', Zone='Auburndale', service_zone='Boro Zone'),\n",
       " Row(LocationID=10, Borough='Queens', Zone='Baisley Park', service_zone='Boro Zone')]"
      ]
     },
     "execution_count": 68,
     "metadata": {},
     "output_type": "execute_result"
    }
   ],
   "source": [
    "df_zones.head(n=10)"
   ]
  },
  {
   "cell_type": "code",
   "execution_count": 69,
   "metadata": {},
   "outputs": [],
   "source": [
    "df_zones.createOrReplaceTempView('zones')"
   ]
  },
  {
   "cell_type": "code",
   "execution_count": 88,
   "metadata": {},
   "outputs": [
    {
     "name": "stderr",
     "output_type": "stream",
     "text": [
      "                                                                                \r"
     ]
    }
   ],
   "source": [
    "df_zone_frequency = spark.sql(\"\"\"\n",
    "SELECT \n",
    "    PULocationID,\n",
    "    MAX(zones.Zone) as name,\n",
    "    COUNT(*)\n",
    "FROM\n",
    "    fhvh_trips, zones\n",
    "WHERE\n",
    "    fhvh_trips.PULocationID == zones.LocationID\n",
    "GROUP BY\n",
    "    fhvh_trips.PULocationID\n",
    "ORDER BY 3 DESC\n",
    "\"\"\").collect()"
   ]
  },
  {
   "cell_type": "code",
   "execution_count": 89,
   "metadata": {},
   "outputs": [
    {
     "data": {
      "text/plain": [
       "[Row(PULocationID=61, name='Crown Heights North', count(1)=231279),\n",
       " Row(PULocationID=79, name='East Village', count(1)=221244),\n",
       " Row(PULocationID=132, name='JFK Airport', count(1)=188867),\n",
       " Row(PULocationID=37, name='Bushwick South', count(1)=187929),\n",
       " Row(PULocationID=76, name='East New York', count(1)=186780),\n",
       " Row(PULocationID=231, name='TriBeCa/Civic Center', count(1)=164344),\n",
       " Row(PULocationID=138, name='LaGuardia Airport', count(1)=161596),\n",
       " Row(PULocationID=234, name='Union Sq', count(1)=158937),\n",
       " Row(PULocationID=249, name='West Village', count(1)=154698),\n",
       " Row(PULocationID=7, name='Astoria', count(1)=152493),\n",
       " Row(PULocationID=148, name='Lower East Side', count(1)=151020),\n",
       " Row(PULocationID=68, name='East Chelsea', count(1)=147673),\n",
       " Row(PULocationID=42, name='Central Harlem North', count(1)=146402),\n",
       " Row(PULocationID=255, name='Williamsburg (North Side)', count(1)=143683),\n",
       " Row(PULocationID=181, name='Park Slope', count(1)=143594),\n",
       " Row(PULocationID=225, name='Stuyvesant Heights', count(1)=141427),\n",
       " Row(PULocationID=48, name='Clinton East', count(1)=139611),\n",
       " Row(PULocationID=246, name='West Chelsea/Hudson Yards', count(1)=139431),\n",
       " Row(PULocationID=17, name='Bedford', count(1)=138428),\n",
       " Row(PULocationID=170, name='Murray Hill', count(1)=137879),\n",
       " Row(PULocationID=164, name='Midtown South', count(1)=136100),\n",
       " Row(PULocationID=161, name='Midtown Center', count(1)=135578),\n",
       " Row(PULocationID=89, name='Flatbush/Ditmas Park', count(1)=130117),\n",
       " Row(PULocationID=230, name='Times Sq/Theatre District', count(1)=129884),\n",
       " Row(PULocationID=188, name='Prospect-Lefferts Gardens', count(1)=128308),\n",
       " Row(PULocationID=39, name='Canarsie', count(1)=127788),\n",
       " Row(PULocationID=256, name='Williamsburg (South Side)', count(1)=127554),\n",
       " Row(PULocationID=237, name='Upper East Side South', count(1)=124621),\n",
       " Row(PULocationID=112, name='Greenpoint', count(1)=118145),\n",
       " Row(PULocationID=129, name='Jackson Heights', count(1)=114413),\n",
       " Row(PULocationID=244, name='Washington Heights South', count(1)=113889),\n",
       " Row(PULocationID=36, name='Bushwick North', count(1)=113732),\n",
       " Row(PULocationID=107, name='Gramercy', count(1)=113487),\n",
       " Row(PULocationID=74, name='East Harlem North', count(1)=112394),\n",
       " Row(PULocationID=236, name='Upper East Side North', count(1)=111986),\n",
       " Row(PULocationID=80, name='East Williamsburg', count(1)=111175),\n",
       " Row(PULocationID=162, name='Midtown East', count(1)=110903),\n",
       " Row(PULocationID=35, name='Brownsville', count(1)=107264),\n",
       " Row(PULocationID=163, name='Midtown North', count(1)=107065),\n",
       " Row(PULocationID=90, name='Flatiron', count(1)=106333),\n",
       " Row(PULocationID=144, name='Little Italy/NoLiTa', count(1)=106007),\n",
       " Row(PULocationID=82, name='Elmhurst', count(1)=104613),\n",
       " Row(PULocationID=145, name='Long Island City/Hunters Point', count(1)=102494),\n",
       " Row(PULocationID=158, name='Meatpacking/West Village West', count(1)=102217),\n",
       " Row(PULocationID=130, name='Jamaica', count(1)=102163),\n",
       " Row(PULocationID=41, name='Central Harlem', count(1)=101695),\n",
       " Row(PULocationID=97, name='Fort Greene', count(1)=99491),\n",
       " Row(PULocationID=186, name='Penn Station/Madison Sq West', count(1)=99400),\n",
       " Row(PULocationID=141, name='Lenox Hill West', count(1)=98597),\n",
       " Row(PULocationID=239, name='Upper West Side South', count(1)=97584),\n",
       " Row(PULocationID=75, name='East Harlem South', count(1)=95810),\n",
       " Row(PULocationID=114, name='Greenwich Village South', count(1)=95705),\n",
       " Row(PULocationID=142, name='Lincoln Square East', count(1)=94552),\n",
       " Row(PULocationID=211, name='SoHo', count(1)=93139),\n",
       " Row(PULocationID=168, name='Mott Haven/Port Morris', count(1)=92400),\n",
       " Row(PULocationID=95, name='Forest Hills', count(1)=92379),\n",
       " Row(PULocationID=198, name='Ridgewood', count(1)=92239),\n",
       " Row(PULocationID=137, name='Kips Bay', count(1)=92184),\n",
       " Row(PULocationID=49, name='Clinton Hill', count(1)=92064),\n",
       " Row(PULocationID=113, name='Greenwich Village North', count(1)=91720),\n",
       " Row(PULocationID=229, name='Sutton Place/Turtle Bay North', count(1)=91599),\n",
       " Row(PULocationID=87, name='Financial District North', count(1)=91576),\n",
       " Row(PULocationID=72, name='East Flatbush/Remsen Village', count(1)=89682),\n",
       " Row(PULocationID=226, name='Sunnyside', count(1)=88941),\n",
       " Row(PULocationID=50, name='Clinton West', count(1)=88749),\n",
       " Row(PULocationID=213, name='Soundview/Castle Hill', count(1)=86117),\n",
       " Row(PULocationID=216, name='South Ozone Park', count(1)=85937),\n",
       " Row(PULocationID=140, name='Lenox Hill East', count(1)=85885),\n",
       " Row(PULocationID=91, name='Flatlands', count(1)=85315),\n",
       " Row(PULocationID=14, name='Bay Ridge', count(1)=84301),\n",
       " Row(PULocationID=233, name='UN/Turtle Bay South', count(1)=83686),\n",
       " Row(PULocationID=238, name='Upper West Side North', count(1)=82525),\n",
       " Row(PULocationID=232, name='Two Bridges/Seward Park', count(1)=82014),\n",
       " Row(PULocationID=25, name='Boerum Hill', count(1)=81017),\n",
       " Row(PULocationID=263, name='Yorkville West', count(1)=80980),\n",
       " Row(PULocationID=243, name='Washington Heights North', count(1)=80108),\n",
       " Row(PULocationID=254, name='Williamsbridge/Olinville', count(1)=79148),\n",
       " Row(PULocationID=177, name='Ocean Hill', count(1)=77173),\n",
       " Row(PULocationID=71, name='East Flatbush/Farragut', count(1)=76510),\n",
       " Row(PULocationID=33, name='Brooklyn Heights', count(1)=76336),\n",
       " Row(PULocationID=13, name='Battery Park City', count(1)=76312),\n",
       " Row(PULocationID=143, name='Lincoln Square West', count(1)=76245),\n",
       " Row(PULocationID=69, name='East Concourse/Concourse Village', count(1)=74920),\n",
       " Row(PULocationID=228, name='Sunset Park West', count(1)=74384),\n",
       " Row(PULocationID=100, name='Garment District', count(1)=74232),\n",
       " Row(PULocationID=169, name='Mount Hope', count(1)=73909),\n",
       " Row(PULocationID=223, name='Steinway', count(1)=73896),\n",
       " Row(PULocationID=26, name='Borough Park', count(1)=71414),\n",
       " Row(PULocationID=247, name='West Concourse', count(1)=70683),\n",
       " Row(PULocationID=18, name='Bedford Park', count(1)=70566),\n",
       " Row(PULocationID=116, name='Hamilton Heights', count(1)=69786),\n",
       " Row(PULocationID=205, name='Saint Albans', count(1)=69232),\n",
       " Row(PULocationID=235, name='University Heights/Morris Heights', count(1)=66162),\n",
       " Row(PULocationID=65, name='Downtown Brooklyn/MetroTech', count(1)=64817),\n",
       " Row(PULocationID=159, name='Melrose South', count(1)=64694),\n",
       " Row(PULocationID=197, name='Richmond Hill', count(1)=64591),\n",
       " Row(PULocationID=78, name='East Tremont', count(1)=63817),\n",
       " Row(PULocationID=92, name='Flushing', count(1)=63760),\n",
       " Row(PULocationID=174, name='Norwood', count(1)=63283),\n",
       " Row(PULocationID=51, name='Co-Op City', count(1)=62409),\n",
       " Row(PULocationID=260, name='Woodside', count(1)=61569),\n",
       " Row(PULocationID=242, name='Van Nest/Morris Park', count(1)=60636),\n",
       " Row(PULocationID=167, name='Morrisania/Melrose', count(1)=59900),\n",
       " Row(PULocationID=262, name='Yorkville East', count(1)=59054),\n",
       " Row(PULocationID=241, name='Van Cortlandt Village', count(1)=58025),\n",
       " Row(PULocationID=62, name='Crown Heights South', count(1)=57484),\n",
       " Row(PULocationID=127, name='Inwood', count(1)=56378),\n",
       " Row(PULocationID=10, name='Baisley Park', count(1)=55861),\n",
       " Row(PULocationID=4, name='Alphabet City', count(1)=55565),\n",
       " Row(PULocationID=77, name='East New York/Pennsylvania Avenue', count(1)=55020),\n",
       " Row(PULocationID=66, name='DUMBO/Vinegar Hill', count(1)=54563),\n",
       " Row(PULocationID=189, name='Prospect Heights', count(1)=54258),\n",
       " Row(PULocationID=215, name='South Jamaica', count(1)=54195),\n",
       " Row(PULocationID=63, name='Cypress Hills', count(1)=53825),\n",
       " Row(PULocationID=47, name='Claremont/Bathgate', count(1)=53601),\n",
       " Row(PULocationID=166, name='Morningside Heights', count(1)=52460),\n",
       " Row(PULocationID=179, name='Old Astoria', count(1)=52320),\n",
       " Row(PULocationID=22, name='Bensonhurst West', count(1)=52137),\n",
       " Row(PULocationID=85, name='Erasmus', count(1)=52085),\n",
       " Row(PULocationID=261, name='World Trade Center', count(1)=51481),\n",
       " Row(PULocationID=208, name='Schuylerville/Edgewater Park', count(1)=51267),\n",
       " Row(PULocationID=119, name='Highbridge', count(1)=51235),\n",
       " Row(PULocationID=125, name='Hudson Sq', count(1)=50712),\n",
       " Row(PULocationID=258, name='Woodhaven', count(1)=50427),\n",
       " Row(PULocationID=185, name='Pelham Parkway', count(1)=50198),\n",
       " Row(PULocationID=220, name='Spuyten Duyvil/Kingsbridge', count(1)=50057),\n",
       " Row(PULocationID=259, name='Woodlawn/Wakefield', count(1)=49722),\n",
       " Row(PULocationID=210, name='Sheepshead Bay', count(1)=48926),\n",
       " Row(PULocationID=155, name='Marine Park/Mill Basin', count(1)=48042),\n",
       " Row(PULocationID=165, name='Midwood', count(1)=47187),\n",
       " Row(PULocationID=126, name='Hunts Point', count(1)=46627),\n",
       " Row(PULocationID=151, name='Manhattan Valley', count(1)=46226),\n",
       " Row(PULocationID=55, name='Coney Island', count(1)=46078),\n",
       " Row(PULocationID=81, name='Eastchester', count(1)=45799),\n",
       " Row(PULocationID=56, name='Corona', count(1)=45311),\n",
       " Row(PULocationID=20, name='Belmont', count(1)=43990),\n",
       " Row(PULocationID=191, name='Queens Village', count(1)=43814),\n",
       " Row(PULocationID=123, name='Homecrest', count(1)=42555),\n",
       " Row(PULocationID=32, name='Bronxdale', count(1)=41693),\n",
       " Row(PULocationID=212, name='Soundview/Bruckner', count(1)=41480),\n",
       " Row(PULocationID=250, name='Westchester Village/Unionport', count(1)=40954),\n",
       " Row(PULocationID=248, name='West Farms/Bronx River', count(1)=40867),\n",
       " Row(PULocationID=182, name='Parkchester', count(1)=39850),\n",
       " Row(PULocationID=60, name='Crotona Park East', count(1)=39365),\n",
       " Row(PULocationID=136, name='Kingsbridge Heights', count(1)=39209),\n",
       " Row(PULocationID=21, name='Bensonhurst East', count(1)=39046),\n",
       " Row(PULocationID=146, name='Long Island City/Queens Plaza', count(1)=38749),\n",
       " Row(PULocationID=196, name='Rego Park', count(1)=38686),\n",
       " Row(PULocationID=40, name='Carroll Gardens', count(1)=38211),\n",
       " Row(PULocationID=157, name='Maspeth', count(1)=38162),\n",
       " Row(PULocationID=102, name='Glendale', count(1)=36572),\n",
       " Row(PULocationID=218, name='Springfield Gardens North', count(1)=35217),\n",
       " Row(PULocationID=28, name='Briarwood/Jamaica Hills', count(1)=35143),\n",
       " Row(PULocationID=3, name='Allerton/Pelham Gardens', count(1)=34796),\n",
       " Row(PULocationID=149, name='Madison', count(1)=34635),\n",
       " Row(PULocationID=227, name='Sunset Park East', count(1)=34412),\n",
       " Row(PULocationID=147, name='Longwood', count(1)=34315),\n",
       " Row(PULocationID=152, name='Manhattanville', count(1)=34307),\n",
       " Row(PULocationID=173, name='North Corona', count(1)=34033),\n",
       " Row(PULocationID=45, name='Chinatown', count(1)=33700),\n",
       " Row(PULocationID=94, name='Fordham South', count(1)=33272),\n",
       " Row(PULocationID=219, name='Springfield Gardens South', count(1)=31913),\n",
       " Row(PULocationID=86, name='Far Rockaway', count(1)=31402),\n",
       " Row(PULocationID=195, name='Red Hook', count(1)=31302),\n",
       " Row(PULocationID=209, name='Seaport', count(1)=31208),\n",
       " Row(PULocationID=160, name='Middle Village', count(1)=31085),\n",
       " Row(PULocationID=88, name='Financial District South', count(1)=30877),\n",
       " Row(PULocationID=29, name='Brighton Beach', count(1)=30721),\n",
       " Row(PULocationID=106, name='Gowanus', count(1)=30708),\n",
       " Row(PULocationID=121, name='Hillcrest/Pomonok', count(1)=30488),\n",
       " Row(PULocationID=134, name='Kew Gardens', count(1)=30012),\n",
       " Row(PULocationID=139, name='Laurelton', count(1)=29911),\n",
       " Row(PULocationID=70, name='East Elmhurst', count(1)=29817),\n",
       " Row(PULocationID=133, name='Kensington', count(1)=29605),\n",
       " Row(PULocationID=117, name='Hammels/Arverne', count(1)=29238),\n",
       " Row(PULocationID=83, name='Elmhurst/Maspeth', count(1)=29234),\n",
       " Row(PULocationID=206, name='Saint George/New Brighton', count(1)=29017),\n",
       " Row(PULocationID=16, name='Bayside', count(1)=28515),\n",
       " Row(PULocationID=203, name='Rosedale', count(1)=28439),\n",
       " Row(PULocationID=171, name='Murray Hill-Queens', count(1)=27271),\n",
       " Row(PULocationID=43, name='Central Park', count(1)=26991),\n",
       " Row(PULocationID=224, name='Stuy Town/Peter Cooper Village', count(1)=25023),\n",
       " Row(PULocationID=180, name='Ozone Park', count(1)=24882),\n",
       " Row(PULocationID=67, name='Dyker Heights', count(1)=24657),\n",
       " Row(PULocationID=135, name='Kew Gardens Hills', count(1)=24636),\n",
       " Row(PULocationID=200, name='Riverdale/North Riverdale/Fieldston', count(1)=24547),\n",
       " Row(PULocationID=131, name='Jamaica Estates', count(1)=23489),\n",
       " Row(PULocationID=108, name='Gravesend', count(1)=22764),\n",
       " Row(PULocationID=257, name='Windsor Terrace', count(1)=22514),\n",
       " Row(PULocationID=52, name='Cobble Hill', count(1)=22103),\n",
       " Row(PULocationID=24, name='Bloomingdale', count(1)=21848),\n",
       " Row(PULocationID=124, name='Howard Beach', count(1)=21165),\n",
       " Row(PULocationID=217, name='South Williamsburg', count(1)=20738),\n",
       " Row(PULocationID=183, name='Pelham Bay', count(1)=20699),\n",
       " Row(PULocationID=193, name='Queensbridge/Ravenswood', count(1)=20562),\n",
       " Row(PULocationID=222, name='Starrett City', count(1)=20544),\n",
       " Row(PULocationID=53, name='College Point', count(1)=20516),\n",
       " Row(PULocationID=221, name='Stapleton', count(1)=20489),\n",
       " Row(PULocationID=23, name='Bloomfield/Emerson Hill', count(1)=20381),\n",
       " Row(PULocationID=156, name='Mariners Harbor', count(1)=20153),\n",
       " Row(PULocationID=122, name='Hollis', count(1)=19543),\n",
       " Row(PULocationID=192, name='Queensboro Hill', count(1)=19370),\n",
       " Row(PULocationID=252, name='Whitestone', count(1)=19203),\n",
       " Row(PULocationID=38, name='Cambria Heights', count(1)=18758),\n",
       " Row(PULocationID=150, name='Manhattan Beach', count(1)=17408),\n",
       " Row(PULocationID=11, name='Bath Beach', count(1)=16122),\n",
       " Row(PULocationID=178, name='Ocean Parkway South', count(1)=15998),\n",
       " Row(PULocationID=118, name='Heartland Village/Todt Hill', count(1)=15737),\n",
       " Row(PULocationID=73, name='East Flushing', count(1)=14909),\n",
       " Row(PULocationID=153, name='Marble Hill', count(1)=14781),\n",
       " Row(PULocationID=98, name='Fresh Meadows', count(1)=13901),\n",
       " Row(PULocationID=9, name='Auburndale', count(1)=12911),\n",
       " Row(PULocationID=34, name='Brooklyn Navy Yard', count(1)=12728),\n",
       " Row(PULocationID=201, name='Rockaway Park', count(1)=12223),\n",
       " Row(PULocationID=115, name='Grymes Hill/Clifton', count(1)=11808),\n",
       " Row(PULocationID=214, name='South Beach/Dongan Hills', count(1)=11767),\n",
       " Row(PULocationID=19, name='Bellerose', count(1)=11558),\n",
       " Row(PULocationID=190, name='Prospect Park', count(1)=11350),\n",
       " Row(PULocationID=101, name='Glen Oaks', count(1)=11253),\n",
       " Row(PULocationID=251, name='Westerleigh', count(1)=10980),\n",
       " Row(PULocationID=245, name='West Brighton', count(1)=10689),\n",
       " Row(PULocationID=93, name='Flushing Meadows-Corona Park', count(1)=10094),\n",
       " Row(PULocationID=15, name='Bay Terrace/Fort Totten', count(1)=9947),\n",
       " Row(PULocationID=187, name='Port Richmond', count(1)=9945),\n",
       " Row(PULocationID=240, name='Van Cortlandt Park', count(1)=9679),\n",
       " Row(PULocationID=175, name='Oakland Gardens', count(1)=9521),\n",
       " Row(PULocationID=109, name='Great Kills', count(1)=9424),\n",
       " Row(PULocationID=64, name='Douglaston', count(1)=8849),\n",
       " Row(PULocationID=31, name='Bronx Park', count(1)=8674),\n",
       " Row(PULocationID=202, name='Roosevelt Island', count(1)=8641),\n",
       " Row(PULocationID=54, name='Columbia Street', count(1)=8614),\n",
       " Row(PULocationID=172, name='New Dorp/Midland Beach', count(1)=8516),\n",
       " Row(PULocationID=6, name='Arrochar/Fort Wadsworth', count(1)=8314),\n",
       " Row(PULocationID=84, name=\"Eltingville/Annadale/Prince's Bay\", count(1)=5754),\n",
       " Row(PULocationID=184, name='Pelham Bay Park', count(1)=5612),\n",
       " Row(PULocationID=44, name='Charleston/Tottenville', count(1)=5481),\n",
       " Row(PULocationID=176, name='Oakwood', count(1)=5050),\n",
       " Row(PULocationID=58, name='Country Club', count(1)=5042),\n",
       " Row(PULocationID=46, name='City Island', count(1)=4425),\n",
       " Row(PULocationID=5, name='Arden Heights', count(1)=4011),\n",
       " Row(PULocationID=207, name='Saint Michaels Cemetery/Woodside', count(1)=3987),\n",
       " Row(PULocationID=128, name='Inwood Hill Park', count(1)=3892),\n",
       " Row(PULocationID=204, name='Rossville/Woodrow', count(1)=3442),\n",
       " Row(PULocationID=57, name='Corona', count(1)=3267),\n",
       " Row(PULocationID=96, name='Forest Park/Highland Park', count(1)=2800),\n",
       " Row(PULocationID=59, name='Crotona Park', count(1)=2795),\n",
       " Row(PULocationID=27, name='Breezy Point/Fort Tilden/Riis Beach', count(1)=2486),\n",
       " Row(PULocationID=194, name='Randalls Island', count(1)=2477),\n",
       " Row(PULocationID=12, name='Battery Park', count(1)=2132),\n",
       " Row(PULocationID=154, name='Marine Park/Floyd Bennett Field', count(1)=2128),\n",
       " Row(PULocationID=120, name='Highbridge Park', count(1)=1686),\n",
       " Row(PULocationID=253, name='Willets Point', count(1)=1638),\n",
       " Row(PULocationID=265, name='NA', count(1)=1308),\n",
       " Row(PULocationID=30, name='Broad Channel', count(1)=941),\n",
       " Row(PULocationID=8, name='Astoria Park', count(1)=808),\n",
       " Row(PULocationID=111, name='Green-Wood Cemetery', count(1)=808),\n",
       " Row(PULocationID=99, name='Freshkills Park', count(1)=361),\n",
       " Row(PULocationID=1, name='Newark Airport', count(1)=228),\n",
       " Row(PULocationID=264, name='NV', count(1)=68),\n",
       " Row(PULocationID=2, name='Jamaica Bay', count(1)=66),\n",
       " Row(PULocationID=110, name='Great Kills Park', count(1)=36),\n",
       " Row(PULocationID=199, name='Rikers Island', count(1)=3),\n",
       " Row(PULocationID=105, name=\"Governor's Island/Ellis Island/Liberty Island\", count(1)=2)]"
      ]
     },
     "execution_count": 89,
     "metadata": {},
     "output_type": "execute_result"
    }
   ],
   "source": [
    "df_zone_frequency"
   ]
  }
 ],
 "metadata": {
  "kernelspec": {
   "display_name": ".venv",
   "language": "python",
   "name": "python3"
  },
  "language_info": {
   "codemirror_mode": {
    "name": "ipython",
    "version": 3
   },
   "file_extension": ".py",
   "mimetype": "text/x-python",
   "name": "python",
   "nbconvert_exporter": "python",
   "pygments_lexer": "ipython3",
   "version": "3.8.5"
  },
  "orig_nbformat": 4,
  "vscode": {
   "interpreter": {
    "hash": "476863ecded99790e23fbfd109329ec0151a895dc1ecaacb7e47d25f16841130"
   }
  }
 },
 "nbformat": 4,
 "nbformat_minor": 2
}
